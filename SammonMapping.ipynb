{
 "cells": [
  {
   "cell_type": "markdown",
   "metadata": {
    "id": "egZvTfpClIm7"
   },
   "source": [
    "Sammon Mapping (https://www.semanticscholar.org/paper/A-Nonlinear-Mapping-for-Data-Structure-Analysis-Sammon/154f8a9906bcc99fca9b17aa521649b1c3734093?p2df) is one of the first nonlinear dimensionality reduction algorithms, and it is still used today as a benchmark due to its flexibility and good results. \n",
    "\n",
    "What differentiated Sammon Mapping from other multidimensional scaling algorithms proposed at the time was the use of non-linear scaling, as opposed to most MDS techniques which scaled all distances by the same value\n",
    "\n",
    "\n",
    "We implement Sammon Mapping by:\n",
    "\n",
    "1 - Start with a random two-dimensional layout Y of points.\n",
    "\n",
    "2 - Compute the stress E of Y.\n",
    "\n",
    "3 - If E < epsilon, or if the maximum number of iterations iter has been reached, stop.\n",
    "\n",
    "4 - For each y of Y , find the next vector y(t + 1) based on the current y(t).\n",
    " \n",
    "5 - Repeat from step 2."
   ]
  },
  {
   "cell_type": "code",
   "execution_count": 352,
   "metadata": {
    "id": "OsGdlCyULFVV"
   },
   "outputs": [],
   "source": [
    "import numpy as np\n",
    "import matplotlib.pyplot as plt\n",
    "from sklearn import datasets\n",
    "from sklearn import metrics"
   ]
  },
  {
   "cell_type": "markdown",
   "metadata": {
    "id": "egZvTfpClIm7"
   },
   "source": [
    "Function to calculate the c constant based on distance matrix"
   ]
  },
  {
   "cell_type": "code",
   "execution_count": 353,
   "metadata": {
    "id": "FnyyIeh1AUmZ"
   },
   "outputs": [],
   "source": [
    "def C(distances):\n",
    "  c = 0\n",
    "  for i in range(distances.shape[0]):\n",
    "    for j in range(distances.shape[0]):\n",
    "      if (i < j):\n",
    "        c += distances[i, j]\n",
    "\n",
    "  return c"
   ]
  },
  {
   "cell_type": "markdown",
   "metadata": {
    "id": "PbIYIGzLljaG"
   },
   "source": [
    "Function to calculate Sammon stress based on distance matrices for the higher and lower dimension (in_distances, out_distances) and a constant c as calculated by the C function"
   ]
  },
  {
   "cell_type": "code",
   "execution_count": 354,
   "metadata": {
    "id": "FU_CX0z5RGNT"
   },
   "outputs": [],
   "source": [
    "def sammonStress(in_distances, out_distances, c):\n",
    "  E = 0\n",
    "  for i in range(in_distances.shape[0]):\n",
    "    for j in range(in_distances.shape[0]):\n",
    "      if (i < j):\n",
    "        E += ((out_distances[i, j] - in_distances[i, j]) ** 2) / in_distances[i, j]\n",
    "  return E / c"
   ]
  },
  {
   "cell_type": "markdown",
   "metadata": {
    "id": "Za20MVpPmojc"
   },
   "source": [
    "Sammon mapping function, returns a two dimensional numpy array"
   ]
  },
  {
   "cell_type": "code",
   "execution_count": 355,
   "metadata": {
    "id": "ny9ngpugOp9f"
   },
   "outputs": [],
   "source": [
    "def sammon(X, iter=500, epsilon=1e-7, alpha=0.3):\n",
    "  rows = X.shape[0]\n",
    "\n",
    "  #random two-dimensional layout of points\n",
    "  y = np.random.normal(0.0, 1.0, [rows, 2])\n",
    "\n",
    "  in_distances = metrics.pairwise_distances(X)\n",
    "  c = C(in_distances)\n",
    "  print(f'c={c}')\n",
    "  \n",
    "  stress_old = np.inf\n",
    "  \n",
    "  for epoch in range(1, iter+1):\n",
    "    out_distances = metrics.pairwise_distances(y)\n",
    "    \n",
    "    stress = sammonStress(in_distances, out_distances, c)\n",
    "\n",
    "    print(f'Epoch {epoch} Sammon stress: {stress}')\n",
    "    if (stress_old - stress < epsilon):\n",
    "      break\n",
    "\n",
    "    stress_old = stress\n",
    "\n",
    "    partial_der1 = np.array([0,0])\n",
    "    partial_der2 = np.array([0,0])\n",
    "\n",
    "    for i in range(rows):\n",
    "      #calculate sum part of the partial derivatives\n",
    "      for j in range(rows):\n",
    "        if (i != j):\n",
    "          denominator = out_distances[i, j] * in_distances[i, j]\n",
    "          difference = out_distances[i, j] - in_distances[i, j]\n",
    "\n",
    "          y_difference = np.subtract(y[i], y[j])\n",
    "\n",
    "          if (denominator < 0.000001):\n",
    "            print(f'denominator = {denominator} set to 0.000001')\n",
    "            denominator = 0.000001\n",
    "\n",
    "          partial_der1 = partial_der1 + np.multiply(difference / denominator, y_difference)\n",
    "          partial_der2 = partial_der2 + (1 / denominator) * (difference - np.divide(np.square(y_difference), in_distances[i, j]) * (1 + difference / in_distances[i, j]))\n",
    "\n",
    "      partial_der1 = (-2 / c) * partial_der1\n",
    "      partial_der2 = (-2 / c) * partial_der2\n",
    "\n",
    "      #update y[i]\n",
    "      y[i] = y[i] + alpha * (partial_der1 / np.abs(partial_der2))\n",
    "\n",
    "  return y"
   ]
  },
  {
   "cell_type": "markdown",
   "metadata": {
    "id": "N9SUk8QHmqgY"
   },
   "source": [
    "Test the sammon function on the iris dataset"
   ]
  },
  {
   "cell_type": "code",
   "execution_count": 356,
   "metadata": {
    "colab": {
     "base_uri": "https://localhost:8080/",
     "height": 1000
    },
    "id": "_JTwWX2XMfSr",
    "outputId": "fff28c73-90e2-4d20-de3b-e3a50abc50d3"
   },
   "outputs": [
    {
     "name": "stdout",
     "output_type": "stream",
     "text": [
      "c=28109.15505661856\n",
      "Epoch 1 Sammon stress: 0.8849065566396013\n",
      "Epoch 2 Sammon stress: 0.849657888150743\n",
      "Epoch 3 Sammon stress: 0.8186309211838186\n",
      "Epoch 4 Sammon stress: 0.7912119266161178\n",
      "Epoch 5 Sammon stress: 0.7668991327813458\n",
      "Epoch 6 Sammon stress: 0.7454866253290768\n",
      "Epoch 7 Sammon stress: 0.7263106603022159\n",
      "Epoch 8 Sammon stress: 0.7088560311741404\n",
      "Epoch 9 Sammon stress: 0.6930759776226834\n",
      "Epoch 10 Sammon stress: 0.6785788368358862\n",
      "Epoch 11 Sammon stress: 0.6647797440505779\n",
      "Epoch 12 Sammon stress: 0.6512514629094551\n",
      "Epoch 13 Sammon stress: 0.6376582339794103\n",
      "Epoch 14 Sammon stress: 0.6236687217437303\n",
      "Epoch 15 Sammon stress: 0.6089770778639397\n",
      "Epoch 16 Sammon stress: 0.5931248226798823\n",
      "Epoch 17 Sammon stress: 0.5757711659792935\n",
      "Epoch 18 Sammon stress: 0.556822833922058\n",
      "Epoch 19 Sammon stress: 0.5360849042950665\n",
      "Epoch 20 Sammon stress: 0.5134421564011411\n",
      "Epoch 21 Sammon stress: 0.4894853040976821\n",
      "Epoch 22 Sammon stress: 0.46432230084521775\n",
      "Epoch 23 Sammon stress: 0.4392636340243672\n",
      "Epoch 24 Sammon stress: 0.4152460360533211\n",
      "Epoch 25 Sammon stress: 0.39317807783759084\n",
      "Epoch 26 Sammon stress: 0.3722854218669683\n",
      "Epoch 27 Sammon stress: 0.35277770704231753\n",
      "Epoch 28 Sammon stress: 0.33465114020930314\n",
      "Epoch 29 Sammon stress: 0.31710231395834815\n",
      "Epoch 30 Sammon stress: 0.300485874680882\n",
      "Epoch 31 Sammon stress: 0.2848883301682839\n",
      "Epoch 32 Sammon stress: 0.2701363456619182\n",
      "Epoch 33 Sammon stress: 0.2560178604217048\n",
      "Epoch 34 Sammon stress: 0.2423142847458783\n",
      "Epoch 35 Sammon stress: 0.22901375875873273\n",
      "Epoch 36 Sammon stress: 0.2158938805285764\n",
      "Epoch 37 Sammon stress: 0.20285835989853107\n",
      "Epoch 38 Sammon stress: 0.19006930823670096\n",
      "Epoch 39 Sammon stress: 0.17852237074892466\n",
      "Epoch 40 Sammon stress: 0.16826181852702699\n",
      "Epoch 41 Sammon stress: 0.15862308866429964\n",
      "Epoch 42 Sammon stress: 0.14948520794364617\n",
      "Epoch 43 Sammon stress: 0.14082406909507483\n",
      "Epoch 44 Sammon stress: 0.1326223828118966\n",
      "Epoch 45 Sammon stress: 0.12478660184019584\n",
      "Epoch 46 Sammon stress: 0.1171880957623171\n",
      "Epoch 47 Sammon stress: 0.1095998847399614\n",
      "Epoch 48 Sammon stress: 0.1036130190417701\n",
      "Epoch 49 Sammon stress: 0.09819111330816305\n",
      "Epoch 50 Sammon stress: 0.0934914557899353\n",
      "Epoch 51 Sammon stress: 0.08909253856817177\n",
      "Epoch 52 Sammon stress: 0.08496566895244244\n",
      "Epoch 53 Sammon stress: 0.08111805220626549\n",
      "Epoch 54 Sammon stress: 0.07751814181281494\n",
      "Epoch 55 Sammon stress: 0.07413346979444946\n",
      "Epoch 56 Sammon stress: 0.07098730514145533\n",
      "Epoch 57 Sammon stress: 0.06809798537479346\n",
      "Epoch 58 Sammon stress: 0.0654479167281168\n",
      "Epoch 59 Sammon stress: 0.06298033500648978\n",
      "Epoch 60 Sammon stress: 0.060646942130450576\n",
      "Epoch 61 Sammon stress: 0.05844189541366048\n",
      "Epoch 62 Sammon stress: 0.05636246809199104\n",
      "Epoch 63 Sammon stress: 0.05440220691269136\n",
      "Epoch 64 Sammon stress: 0.052559951340062416\n",
      "Epoch 65 Sammon stress: 0.05083437462214893\n",
      "Epoch 66 Sammon stress: 0.049199707083874986\n",
      "Epoch 67 Sammon stress: 0.04762494630658196\n",
      "Epoch 68 Sammon stress: 0.04609506781277569\n",
      "Epoch 69 Sammon stress: 0.04460896433297993\n",
      "Epoch 70 Sammon stress: 0.0431712249498671\n",
      "Epoch 71 Sammon stress: 0.04178682096361818\n",
      "Epoch 72 Sammon stress: 0.040459788342005636\n",
      "Epoch 73 Sammon stress: 0.0391751761331955\n",
      "Epoch 74 Sammon stress: 0.03791190891656144\n",
      "Epoch 75 Sammon stress: 0.03666313040026304\n",
      "Epoch 76 Sammon stress: 0.03543124488859199\n",
      "Epoch 77 Sammon stress: 0.034218596370485445\n",
      "Epoch 78 Sammon stress: 0.03302800972616506\n",
      "Epoch 79 Sammon stress: 0.03186093071131973\n",
      "Epoch 80 Sammon stress: 0.030716947180537395\n",
      "Epoch 81 Sammon stress: 0.029594873600873116\n",
      "Epoch 82 Sammon stress: 0.028492790103252456\n",
      "Epoch 83 Sammon stress: 0.027407879841705708\n",
      "Epoch 84 Sammon stress: 0.026337650218788835\n",
      "Epoch 85 Sammon stress: 0.0252813991847219\n",
      "Epoch 86 Sammon stress: 0.024239061298366362\n",
      "Epoch 87 Sammon stress: 0.023212476460771195\n",
      "Epoch 88 Sammon stress: 0.022205159942516036\n",
      "Epoch 89 Sammon stress: 0.021232024612500795\n",
      "Epoch 90 Sammon stress: 0.020591994157028417\n",
      "Epoch 91 Sammon stress: 0.01935538456481064\n",
      "Epoch 92 Sammon stress: 0.018458928871870818\n",
      "Epoch 93 Sammon stress: 0.017957446655945675\n",
      "Epoch 94 Sammon stress: 0.016733743412403648\n",
      "Epoch 95 Sammon stress: 0.015735003794795564\n",
      "Epoch 96 Sammon stress: 0.015503137698370419\n",
      "Epoch 97 Sammon stress: 0.014322573952668996\n",
      "Epoch 98 Sammon stress: 0.013301084918494853\n",
      "Epoch 99 Sammon stress: 0.01278942934953938\n",
      "Epoch 100 Sammon stress: 0.01177265883448839\n",
      "Epoch 101 Sammon stress: 0.011232461773669704\n",
      "Epoch 102 Sammon stress: 0.010462920350562536\n",
      "Epoch 103 Sammon stress: 0.009735355690992318\n",
      "Epoch 104 Sammon stress: 0.00953166893159261\n",
      "Epoch 105 Sammon stress: 0.008678424342224197\n",
      "Epoch 106 Sammon stress: 0.007986729365158552\n",
      "Epoch 107 Sammon stress: 0.007520182039310503\n",
      "Epoch 108 Sammon stress: 0.007179429943818999\n",
      "Epoch 109 Sammon stress: 0.006572265926022653\n",
      "Epoch 110 Sammon stress: 0.006172117003087753\n",
      "Epoch 111 Sammon stress: 0.005893478859643903\n",
      "Epoch 112 Sammon stress: 0.005573265308174445\n",
      "Epoch 113 Sammon stress: 0.005371871430369204\n",
      "Epoch 114 Sammon stress: 0.005209976765559705\n",
      "Epoch 115 Sammon stress: 0.005075657779763133\n",
      "Epoch 116 Sammon stress: 0.004962539216322196\n",
      "Epoch 117 Sammon stress: 0.004866255532555382\n",
      "Epoch 118 Sammon stress: 0.004789685738564399\n",
      "Epoch 119 Sammon stress: 0.004742616550840121\n",
      "Epoch 120 Sammon stress: 0.0047171164860570014\n",
      "Epoch 121 Sammon stress: 0.0047009745507809\n",
      "Epoch 122 Sammon stress: 0.004689217452738483\n",
      "Epoch 123 Sammon stress: 0.00467959280634811\n",
      "Epoch 124 Sammon stress: 0.004671299079008292\n",
      "Epoch 125 Sammon stress: 0.00466408887332432\n",
      "Epoch 126 Sammon stress: 0.004657816477957013\n",
      "Epoch 127 Sammon stress: 0.004652633724691226\n",
      "Epoch 128 Sammon stress: 0.004648746861380984\n",
      "Epoch 129 Sammon stress: 0.0046458349648326284\n",
      "Epoch 130 Sammon stress: 0.004643444000698929\n",
      "Epoch 131 Sammon stress: 0.004641031454854469\n",
      "Epoch 132 Sammon stress: 0.004637386532212322\n",
      "Epoch 133 Sammon stress: 0.004630712760490866\n",
      "Epoch 134 Sammon stress: 0.004621651402461805\n",
      "Epoch 135 Sammon stress: 0.004613092298828802\n",
      "Epoch 136 Sammon stress: 0.0046073584150337675\n",
      "Epoch 137 Sammon stress: 0.004604337058983006\n",
      "Epoch 138 Sammon stress: 0.004602728592996145\n",
      "Epoch 139 Sammon stress: 0.0046016988334006805\n",
      "Epoch 140 Sammon stress: 0.004600923221000412\n",
      "Epoch 141 Sammon stress: 0.004600293771025005\n",
      "Epoch 142 Sammon stress: 0.0045997706998854885\n",
      "Epoch 143 Sammon stress: 0.004599333711129353\n",
      "Epoch 144 Sammon stress: 0.0045989687241318605\n",
      "Epoch 145 Sammon stress: 0.004598664315998181\n",
      "Epoch 146 Sammon stress: 0.00459841053399794\n",
      "Epoch 147 Sammon stress: 0.004598198398093263\n",
      "Epoch 148 Sammon stress: 0.004598019684380441\n",
      "Epoch 149 Sammon stress: 0.004597866781865777\n",
      "Epoch 150 Sammon stress: 0.004597732445376886\n",
      "Epoch 151 Sammon stress: 0.004597609254875177\n",
      "Epoch 152 Sammon stress: 0.004597488478366753\n",
      "Epoch 153 Sammon stress: 0.004597357689941089\n",
      "Epoch 154 Sammon stress: 0.004597195699182262\n",
      "Epoch 155 Sammon stress: 0.004596962183262749\n",
      "Epoch 156 Sammon stress: 0.004596581655002037\n",
      "Epoch 157 Sammon stress: 0.0045959467242068786\n",
      "Epoch 158 Sammon stress: 0.004595025774190398\n",
      "Epoch 159 Sammon stress: 0.004594038830934886\n",
      "Epoch 160 Sammon stress: 0.004593300829479316\n",
      "Epoch 161 Sammon stress: 0.004592879947598362\n",
      "Epoch 162 Sammon stress: 0.004592662987836156\n",
      "Epoch 163 Sammon stress: 0.004592545839315828\n",
      "Epoch 164 Sammon stress: 0.004592475124736398\n"
     ]
    },
    {
     "data": {
      "image/png": "[encoded data removed]",
      "text/plain": [
       "<Figure size 432x288 with 1 Axes>"
      ]
     },
     "metadata": {
      "needs_background": "light",
      "tags": []
     },
     "output_type": "display_data"
    }
   ],
   "source": [
    "if __name__ == \"__main__\":\n",
    "  iris = datasets.load_iris()\n",
    "  (X,index) = np.unique(iris.data,axis=0,return_index=True)\n",
    "\n",
    "  target = iris.target[index]\n",
    "\n",
    "  y = sammon(X, alpha=1)\n",
    "  \n",
    "\n",
    "  plt.scatter(y[target ==0, 0], y[target ==0, 1], c='r')\n",
    "  plt.scatter(y[target ==1, 0], y[target ==1, 1], c='b')\n",
    "  plt.scatter(y[target ==2, 0], y[target ==2, 1], c='y')\n",
    "  plt.show()"
   ]
  }
 ],
 "metadata": {
  "colab": {
   "collapsed_sections": [],
   "name": "Exercise2.ipynb",
   "provenance": []
  },
  "kernelspec": {
   "display_name": "Python 3",
   "language": "python",
   "name": "python3"
  },
  "language_info": {
   "codemirror_mode": {
    "name": "ipython",
    "version": 3
   },
   "file_extension": ".py",
   "mimetype": "text/x-python",
   "name": "python",
   "nbconvert_exporter": "python",
   "pygments_lexer": "ipython3",
   "version": "3.8.5"
  }
 },
 "nbformat": 4,
 "nbformat_minor": 1
}
